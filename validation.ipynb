{
 "cells": [
  {
   "cell_type": "code",
   "execution_count": 1,
   "id": "928fc2d8-8cae-4c33-ae25-ff9a61bdd188",
   "metadata": {},
   "outputs": [],
   "source": [
    "def evaluate(path_gold, path_test):\n",
    "    gold_file = open(path_gold, encoding='utf-8', newline='\\n')\n",
    "    test_file = open(path_test, encoding='utf-8', newline='\\n' if path_test.endswith('out.conll') else '\\r\\n')\n",
    "\n",
    "    gold_word_id = ''\n",
    "    \n",
    "    n_total = 0\n",
    "    n_labeled = 0\n",
    "    n_unlabeled = 0\n",
    "    \n",
    "    n_virt_nodes_gold = 0\n",
    "    n_virt_nodes_test = 0\n",
    "    n_virt_nodes_labeled = 0\n",
    "    n_virt_nodes_unlabeled = 0\n",
    "    \n",
    "    for test_line in test_file:\n",
    "\n",
    "        if test_line == '\\r\\n':\n",
    "            gold_word_id = ''\n",
    "        else:\n",
    "            test_fields = test_line[:-2].split('\\t')\n",
    "            test_word_id = test_fields[0]\n",
    "            \n",
    "            while gold_word_id != test_word_id:\n",
    "                gold_line = gold_file.readline()\n",
    "                gold_fields = gold_line[:-1].split('\\t')\n",
    "                gold_word_id = gold_fields[0]\n",
    "            \n",
    "            # print(test_fields)\n",
    "            if test_fields == ['']:\n",
    "                continue\n",
    "            if test_fields[1] != 'unused' and (not test_fields[1].startswith('virt_') or not gold_fields[1].startswith('virt_') or test_fields[7] != 'unused' or gold_fields[7] != 'unused'):\n",
    "            #if True:\n",
    "                n_total += 1\n",
    "                if test_fields[6] == gold_fields[6]:\n",
    "                    n_unlabeled += 1 \n",
    "                    \n",
    "                    if test_fields[1].startswith('virt_'):\n",
    "                        n_virt_nodes_unlabeled += 1\n",
    "\n",
    "                    if test_fields[7] == gold_fields[7]:\n",
    "                        n_labeled += 1\n",
    "\n",
    "                        if test_fields[1].startswith('virt_'):\n",
    "                            n_virt_nodes_labeled += 1\n",
    "                        \n",
    "                        \n",
    "                if gold_fields[1].startswith('virt_') and gold_fields[7] != 'unused':\n",
    "                    n_virt_nodes_gold += 1\n",
    "                \n",
    "                if test_fields[1].startswith('virt_') and test_fields[7] != 'unused':\n",
    "                    n_virt_nodes_test += 1\n",
    "\n",
    "    gold_file.close()\n",
    "    test_file.close()\n",
    "\n",
    "    return n_total, n_unlabeled, n_labeled, n_unlabeled/n_total, n_labeled/n_total, n_virt_nodes_gold, n_virt_nodes_test, n_virt_nodes_unlabeled, n_virt_nodes_labeled, n_virt_nodes_unlabeled/n_virt_nodes_test if n_virt_nodes_test > 0 else 0, n_virt_nodes_unlabeled/n_virt_nodes_gold if n_virt_nodes_gold > 0 else 0, n_virt_nodes_labeled/n_virt_nodes_test if n_virt_nodes_test > 0 else 0, n_virt_nodes_labeled/n_virt_nodes_gold if n_virt_nodes_gold > 0 else 0"
   ]
  },
  {
   "cell_type": "markdown",
   "id": "73195214-0921-4c87-bf24-c1e5282a36ab",
   "metadata": {},
   "source": [
    "train turbo:\n",
    "    turbo_parser.exe --train --file_train=train.conll --file_model=zz.model\n",
    "parse turbo:\n",
    "    turbo_parser.exe --test --evaluate --file_model=zz.model --file_test=test.conll --file_prediction=test.conll.predicted"
   ]
  },
  {
   "cell_type": "code",
   "execution_count": 3,
   "id": "1f30f077-c21d-4b40-869c-603cb2b32e33",
   "metadata": {},
   "outputs": [],
   "source": [
    "pretty_result = lambda x: f'''1. Всего слов - {x[0]}\\n2. Кол-во слов с правильно предсказанной вершиной - {x[1]}\\n3. Кол-во слов с правильно предсказанными вершиной и связью - {x[2]}\n",
    "4. UAS - {x[3]}\\n5. LAS - {x[4]}\\n6. Количество использованных виртуальных узлов в gold - {x[5]}\\n7. Кол-во использованных виртуальных узлов в predicted - {x[6]}\n",
    "8. Кол-во правильно предсказанных использованных виртуальных узлов (unlabeled) - {x[7]}\\n9. Кол-во правильно предсказанных использованных виртуальных узлов (labeled) - {x[8]}\n",
    "10. unlabeled precision по использованным виртуальным узлам - {x[9]}\\n11. unlabeled recall - {x[10]}\\n12. labeled precision - {x[11]}\\n13. labeled recall - {x[12]}'''"
   ]
  },
  {
   "cell_type": "code",
   "execution_count": 15,
   "id": "c45346eb-b224-4445-90a9-c0f5d402f85f",
   "metadata": {
    "collapsed": true,
    "jupyter": {
     "outputs_hidden": true
    },
    "tags": []
   },
   "outputs": [
    {
     "ename": "KeyboardInterrupt",
     "evalue": "",
     "output_type": "error",
     "traceback": [
      "\u001b[1;31m---------------------------------------------------------------------------\u001b[0m",
      "\u001b[1;31mKeyboardInterrupt\u001b[0m                         Traceback (most recent call last)",
      "File \u001b[1;32m<timed eval>:1\u001b[0m, in \u001b[0;36m<module>\u001b[1;34m\u001b[0m\n",
      "Input \u001b[1;32mIn [11]\u001b[0m, in \u001b[0;36mevaluate\u001b[1;34m(path_gold, path_test)\u001b[0m\n\u001b[0;32m     22\u001b[0m test_word_id \u001b[38;5;241m=\u001b[39m test_fields[\u001b[38;5;241m0\u001b[39m]\n\u001b[0;32m     24\u001b[0m \u001b[38;5;28;01mwhile\u001b[39;00m gold_word_id \u001b[38;5;241m!=\u001b[39m test_word_id:\n\u001b[1;32m---> 25\u001b[0m     gold_line \u001b[38;5;241m=\u001b[39m \u001b[43mgold_file\u001b[49m\u001b[38;5;241;43m.\u001b[39;49m\u001b[43mreadline\u001b[49m\u001b[43m(\u001b[49m\u001b[43m)\u001b[49m\n\u001b[0;32m     26\u001b[0m     gold_fields \u001b[38;5;241m=\u001b[39m gold_line[:\u001b[38;5;241m-\u001b[39m\u001b[38;5;241m1\u001b[39m]\u001b[38;5;241m.\u001b[39msplit(\u001b[38;5;124m'\u001b[39m\u001b[38;5;130;01m\\t\u001b[39;00m\u001b[38;5;124m'\u001b[39m)\n\u001b[0;32m     27\u001b[0m     gold_word_id \u001b[38;5;241m=\u001b[39m gold_fields[\u001b[38;5;241m0\u001b[39m]\n",
      "File \u001b[1;32m~\\AppData\\Local\\Programs\\Python\\Python310\\lib\\codecs.py:319\u001b[0m, in \u001b[0;36mBufferedIncrementalDecoder.decode\u001b[1;34m(self, input, final)\u001b[0m\n\u001b[0;32m    314\u001b[0m \u001b[38;5;28;01mdef\u001b[39;00m \u001b[38;5;21m_buffer_decode\u001b[39m(\u001b[38;5;28mself\u001b[39m, \u001b[38;5;28minput\u001b[39m, errors, final):\n\u001b[0;32m    315\u001b[0m     \u001b[38;5;66;03m# Overwrite this method in subclasses: It must decode input\u001b[39;00m\n\u001b[0;32m    316\u001b[0m     \u001b[38;5;66;03m# and return an (output, length consumed) tuple\u001b[39;00m\n\u001b[0;32m    317\u001b[0m     \u001b[38;5;28;01mraise\u001b[39;00m \u001b[38;5;167;01mNotImplementedError\u001b[39;00m\n\u001b[1;32m--> 319\u001b[0m \u001b[38;5;28;01mdef\u001b[39;00m \u001b[38;5;21mdecode\u001b[39m(\u001b[38;5;28mself\u001b[39m, \u001b[38;5;28minput\u001b[39m, final\u001b[38;5;241m=\u001b[39m\u001b[38;5;28;01mFalse\u001b[39;00m):\n\u001b[0;32m    320\u001b[0m     \u001b[38;5;66;03m# decode input (taking the buffer into account)\u001b[39;00m\n\u001b[0;32m    321\u001b[0m     data \u001b[38;5;241m=\u001b[39m \u001b[38;5;28mself\u001b[39m\u001b[38;5;241m.\u001b[39mbuffer \u001b[38;5;241m+\u001b[39m \u001b[38;5;28minput\u001b[39m\n\u001b[0;32m    322\u001b[0m     (result, consumed) \u001b[38;5;241m=\u001b[39m \u001b[38;5;28mself\u001b[39m\u001b[38;5;241m.\u001b[39m_buffer_decode(data, \u001b[38;5;28mself\u001b[39m\u001b[38;5;241m.\u001b[39merrors, final)\n",
      "\u001b[1;31mKeyboardInterrupt\u001b[0m: "
     ]
    }
   ],
   "source": [
    "%%time\n",
    "print(pretty_result(evaluate(r'D:\\maltParser\\maltparser-1.9.1\\examples\\data\\talbanken05_test.conllu', r'D:\\maltParser\\maltparser-1.9.1\\out.conll')))"
   ]
  },
  {
   "cell_type": "code",
   "execution_count": 4,
   "id": "af13fa68-7801-4dd9-9d2a-2476ebb4217c",
   "metadata": {},
   "outputs": [
    {
     "name": "stdout",
     "output_type": "stream",
     "text": [
      "1. Всего слов - 157989\n",
      "2. Кол-во слов с правильно предсказанной вершиной - 96640\n",
      "3. Кол-во слов с правильно предсказанными вершиной и связью - 84560\n",
      "4. UAS - 0.6116881555044972\n",
      "5. LAS - 0.535227136066435\n",
      "6. Количество использованных виртуальных узлов в gold - 0\n",
      "7. Кол-во использованных виртуальных узлов в predicted - 0\n",
      "8. Кол-во правильно предсказанных использованных виртуальных узлов (unlabeled) - 0\n",
      "9. Кол-во правильно предсказанных использованных виртуальных узлов (labeled) - 0\n",
      "10. unlabeled precision по использованным виртуальным узлам - 0\n",
      "11. unlabeled recall - 0\n",
      "12. labeled precision - 0\n",
      "13. labeled recall - 0\n",
      "CPU times: total: 359 ms\n",
      "Wall time: 380 ms\n"
     ]
    }
   ],
   "source": [
    "%%time\n",
    "print(pretty_result(evaluate(r'D:\\maltParser\\dist\\dist-20141005\\lib\\gold.conll', r'D:\\maltParser\\dist\\dist-20141005\\lib\\parse.conll')))"
   ]
  },
  {
   "cell_type": "code",
   "execution_count": 5,
   "id": "cb176c67-2105-406e-8d75-4077902e8a23",
   "metadata": {
    "tags": []
   },
   "outputs": [
    {
     "name": "stdout",
     "output_type": "stream",
     "text": [
      "1. Всего слов - 172540\n",
      "2. Кол-во слов с правильно предсказанной вершиной - 125721\n",
      "3. Кол-во слов с правильно предсказанными вершиной и связью - 106160\n",
      "4. UAS - 0.728648429349716\n",
      "5. LAS - 0.6152776167845138\n",
      "6. Количество использованных виртуальных узлов в gold - 8791\n",
      "7. Кол-во использованных виртуальных узлов в predicted - 6348\n",
      "8. Кол-во правильно предсказанных использованных виртуальных узлов (unlabeled) - 3850\n",
      "9. Кол-во правильно предсказанных использованных виртуальных узлов (labeled) - 3455\n",
      "10. unlabeled precision по использованным виртуальным узлам - 0.6064902331442974\n",
      "11. unlabeled recall - 0.437947901262655\n",
      "12. labeled precision - 0.5442659105229993\n",
      "13. labeled recall - 0.39301558412012283\n",
      "CPU times: total: 1.55 s\n",
      "Wall time: 1.6 s\n"
     ]
    }
   ],
   "source": [
    "%%time\n",
    "print(pretty_result(evaluate(r'D:\\Ready_Corpus\\test.conll', r'D:\\Ready_Corpus\\test.conll.predicted')))"
   ]
  },
  {
   "cell_type": "markdown",
   "id": "7c6066b0-82ff-4199-92e5-7260b524c99e",
   "metadata": {},
   "source": [
    "- TurboParser\n",
    "    - Train size -  10\n",
    "    - Test size -  5\n",
    "    - Time spent for training:\n",
    "        ~11h\n",
    "\n",
    "    - train:\n",
    "        2009\\Gadzhety-neudachniki.tgt, 2010\\Sokrashchenie_vuzov.tgt, 2003\\Zemlya_naiznanku.tgt, 2003\\Metis.tgt, 2009\\Obrazovatelnoe_kreditovanie.tgt, 2013\\Preodolet_kompleks_liliputa.tgt,\n",
    "        2007\\Sluchai_dlya_zhyuri.tgt, Uppsala\\Korp_261.tgt, 2009\\Reforma_obrazovaniya.tgt, 2010\\Khudozhestvennaya_gimnastika.tgt\n",
    "        Counter({'virt_V': 2203, 'virt_S': 1789, 'virt_A': 314, 'virt_ADV': 116, 'virt_CONJ': 83, 'virt_PR': 74, 'virt_PART': 34, 'virt_NUM': 26})\n",
    "\n",
    "    - test: \n",
    "        test:\n",
    "            news\\Ya_35.tgt, 2006\\Misha.tgt, 2017\\Poet_i_prezident.tgt, 2020_RFFI\\Ognev.tgt, 2009\\Sanktsii.tgt\n",
    "            Counter({'virt_V': 4611, 'virt_S': 2707, 'virt_A': 580, 'virt_ADV': 296, 'virt_PR': 200, 'virt_CONJ': 107, 'virt_PART': 30, 'virt_NUM': 24, 'virt_NID': 3})\n",
    "\n",
    "    - Base creation time\n",
    "        CPU times: total: 36.8 s\n",
    "        Wall time: 39.7 s\n",
    "\n",
    "    - Result:\n",
    "        1. Всего слов - 172540\n",
    "        2. Кол-во слов с правильно предсказанной вершиной - 125721\n",
    "        3. Кол-во слов с правильно предсказанными вершиной и связью - 106160\n",
    "        4. UAS - 0.728648429349716\n",
    "        5. LAS - 0.6152776167845138\n",
    "        6. Количество использованных виртуальных узлов в gold - 8791\n",
    "        7. Кол-во использованных виртуальных узлов в predicted - 6348\n",
    "        8. Кол-во правильно предсказанных использованных виртуальных узлов (unlabeled) - 3850\n",
    "        9. Кол-во правильно предсказанных использованных виртуальных узлов (labeled) - 3455\n",
    "        10. unlabeled precision по использованным виртуальным узлам - 0.6064902331442974\n",
    "        11. unlabeled recall - 0.437947901262655\n",
    "        12. labeled precision - 0.5442659105229993\n",
    "        13. labeled recall - 0.39301558412012283\n",
    "\n",
    "    - validation time:\n",
    "        CPU times: total: 1.55 s\n",
    "        Wall time: 1.6 s\n",
    " \n",
    "- MaltParser (без смены разметки)\n",
    "    - Train size -  10\n",
    "    - Test size -  5\n",
    "    - Time spent for trainig:\n",
    "        ~5-10m\n",
    "\n",
    "    - train: \n",
    "        news\\Ya_13.tgt, news\\Ya_31.tgt, 2011\\Sinkhronnoe_plavanie.tgt, 2010\\Kovcheg_Zhana_Vanie.tgt, 2011\\Otkrytoe_pismo.tgt, 2010\\Rodnye_i_priemnye.tgt, news\\Ya_49.tgt, \n",
    "        2007\\Chuvstvo_spravedlivosti.tgt, Uppsala\\Korp_604.tgt, news\\Ya_77.tgt\n",
    "        Counter({'virt_V': 2285, 'virt_S': 2017, 'virt_A': 390, 'virt_PR': 79, 'virt_ADV': 60, 'virt_CONJ': 42, 'virt_PART': 16, 'virt_NUM': 14})\n",
    "\n",
    "    - test:\n",
    "        2003\\Nobelevskie_premii.tgt, 2018\\Poseshchenie_muzeya.tgt, 2006\\Demonstratsiya_flaga.tgt, 2013\\Sverkhnovaya_ekonomika.tgt, 2003\\Uteshenie.tgt\n",
    "        Counter({'virt_V': 1806, 'virt_S': 1397, 'virt_A': 232, 'virt_ADV': 70, 'virt_PR': 53, 'virt_CONJ': 35, 'virt_PART': 15, 'virt_NUM': 9})\n",
    "    \n",
    "    - base creation time\n",
    "        CPU times: total: 22.9 s\n",
    "        Wall time: 25.5 s\n",
    "        \n",
    "    - Result:\n",
    "        1. Всего слов - 104351\n",
    "        2. Кол-во слов с правильно предсказанной вершиной - 41840\n",
    "        3. Кол-во слов с правильно предсказанными вершиной и связью - 31517\n",
    "        4. UAS - 0.4009544709681747\n",
    "        5. LAS - 0.3020287299594637\n",
    "        6. Количество использованных виртуальных узлов в gold - 3717\n",
    "        7. Кол-во использованных виртуальных узлов в predicted - 162\n",
    "        8. Кол-во правильно предсказанных использованных виртуальных узлов (unlabeled) - 46\n",
    "        9. Кол-во правильно предсказанных использованных виртуальных узлов (labeled) - 26\n",
    "        10. unlabeled precision по использованным виртуальным узлам - 0.2839506172839506\n",
    "        11. unlabeled recall - 0.012375571697605597\n",
    "        12. labeled precision - 0.16049382716049382\n",
    "        13. labeled recall - 0.006994888350820554\n",
    "        \n",
    "    - validation time\n",
    "        CPU times: total: 688 ms\n",
    "        Wall time: 693 ms\n",
    "        \n",
    "- MaltParser (UD разметка)\n",
    "    - Time spent for training:\n",
    "        ~15-20m\n",
    "\n",
    "    - Result:\n",
    "        1. Всего слов - 157989\n",
    "        2. Кол-во слов с правильно предсказанной вершиной - 96640\n",
    "        3. Кол-во слов с правильно предсказанными вершиной и связью - 84560\n",
    "        4. UAS - 0.6116881555044972\n",
    "        5. LAS - 0.535227136066435\n",
    "        6. Количество использованных виртуальных узлов в gold - 0\n",
    "        7. Кол-во использованных виртуальных узлов в predicted - 0\n",
    "        8. Кол-во правильно предсказанных использованных виртуальных узлов (unlabeled) - 0\n",
    "        9. Кол-во правильно предсказанных использованных виртуальных узлов (labeled) - 0\n",
    "        10. unlabeled precision по использованным виртуальным узлам - 0\n",
    "        11. unlabeled recall - 0\n",
    "        12. labeled precision - 0\n",
    "        13. labeled recall - 0\n",
    "\n",
    "    - validation timr\n",
    "        CPU times: total: 359 ms\n",
    "        Wall time: 380 ms\n",
    "\n"
   ]
  },
  {
   "cell_type": "code",
   "execution_count": null,
   "id": "fb01aa36-b4bf-49dd-a2ad-37fd9ca603b2",
   "metadata": {},
   "outputs": [],
   "source": []
  }
 ],
 "metadata": {
  "kernelspec": {
   "display_name": "Python 3 (ipykernel)",
   "language": "python",
   "name": "python3"
  },
  "language_info": {
   "codemirror_mode": {
    "name": "ipython",
    "version": 3
   },
   "file_extension": ".py",
   "mimetype": "text/x-python",
   "name": "python",
   "nbconvert_exporter": "python",
   "pygments_lexer": "ipython3",
   "version": "3.10.4"
  }
 },
 "nbformat": 4,
 "nbformat_minor": 5
}
